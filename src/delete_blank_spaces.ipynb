{
 "cells": [
  {
   "cell_type": "code",
   "execution_count": 6,
   "metadata": {},
   "outputs": [
    {
     "data": {
      "text/plain": [
       "354074"
      ]
     },
     "execution_count": 6,
     "metadata": {},
     "output_type": "execute_result"
    }
   ],
   "source": [
    "f_cmp = open(\"CMP_records.csv\", \"r\")\n",
    "cmp = f_cmp.read()\n",
    "cmp_new = cmp.replace(\" \", \"\")\n",
    "f_cmp.close()\n",
    "f_cmp_mew = open(\"CMP.csv\", \"w\")\n",
    "f_cmp_mew.write(cmp_new)"
   ]
  },
  {
   "cell_type": "code",
   "execution_count": 7,
   "metadata": {},
   "outputs": [
    {
     "data": {
      "text/plain": [
       "17272382"
      ]
     },
     "execution_count": 7,
     "metadata": {},
     "output_type": "execute_result"
    }
   ],
   "source": [
    "f_fin = open(\"FIN_records.csv\", \"r\")\n",
    "fin = f_fin.read()\n",
    "fin_new = fin.replace(\" \", \"\")\n",
    "f_fin.close()\n",
    "f_fin_mew = open(\"FIN.csv\", \"w\")\n",
    "f_fin_mew.write(fin_new)"
   ]
  },
  {
   "cell_type": "code",
   "execution_count": 8,
   "metadata": {},
   "outputs": [
    {
     "data": {
      "text/plain": [
       "365437"
      ]
     },
     "execution_count": 8,
     "metadata": {},
     "output_type": "execute_result"
    }
   ],
   "source": [
    "f_sec = open(\"SEC_records.csv\", \"r\")\n",
    "sec = f_sec.read()\n",
    "sec_new = sec.replace(\" \", \"\")\n",
    "f_sec.close()\n",
    "f_sec_mew = open(\"SEC.csv\", \"w\")\n",
    "f_sec_mew.write(sec_new)"
   ]
  }
 ],
 "metadata": {
  "kernelspec": {
   "display_name": "base",
   "language": "python",
   "name": "python3"
  },
  "language_info": {
   "codemirror_mode": {
    "name": "ipython",
    "version": 3
   },
   "file_extension": ".py",
   "mimetype": "text/x-python",
   "name": "python",
   "nbconvert_exporter": "python",
   "pygments_lexer": "ipython3",
   "version": "3.9.15"
  },
  "orig_nbformat": 4,
  "vscode": {
   "interpreter": {
    "hash": "d8cf549b0e672e8d5a0d0bf07c69eb35452dc99244258a03bd6dea3cf00f576e"
   }
  }
 },
 "nbformat": 4,
 "nbformat_minor": 2
}
